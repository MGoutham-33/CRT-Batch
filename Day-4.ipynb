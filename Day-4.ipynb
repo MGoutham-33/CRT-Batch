{
 "cells": [
  {
   "cell_type": "code",
   "execution_count": 8,
   "metadata": {},
   "outputs": [
    {
     "name": "stdout",
     "output_type": "stream",
     "text": [
      "RIP PYTHON\n",
      "rip python\n",
      "False\n",
      "True\n"
     ]
    }
   ],
   "source": [
    "s = \"RIP python\"\n",
    "print(s.upper()) # Converting the string upper case\n",
    "print(s.lower()) # Converting the string lower case\n",
    "s1 = s.upper()\n",
    "print(s.isupper()) # Checking wheather the giving string is upper or not\n",
    "print(s1.isupper())"
   ]
  },
  {
   "cell_type": "code",
   "execution_count": 17,
   "metadata": {},
   "outputs": [
    {
     "name": "stdout",
     "output_type": "stream",
     "text": [
      "enter a string:Python Programming\n",
      "False\n",
      "True\n"
     ]
    }
   ],
   "source": [
    "# istitle:\n",
    "\n",
    "s1 = input(\"enter a string:\")\n",
    "print((s1.upper()).istitle())\n",
    "print(s1.istitle())"
   ]
  },
  {
   "cell_type": "code",
   "execution_count": 14,
   "metadata": {},
   "outputs": [
    {
     "name": "stdout",
     "output_type": "stream",
     "text": [
      "enter a value:5846\n",
      "True\n"
     ]
    }
   ],
   "source": [
    "# isnumeric:\n",
    "\n",
    "s1 = input(\"enter a value:\")\n",
    "print(s1.isnumeric())"
   ]
  },
  {
   "cell_type": "code",
   "execution_count": 16,
   "metadata": {},
   "outputs": [
    {
     "name": "stdout",
     "output_type": "stream",
     "text": [
      "enter a Char/String:py123\n",
      "False\n"
     ]
    }
   ],
   "source": [
    "# isalpha:\n",
    "\n",
    "s1 = input(\"enter a Char/String:\")\n",
    "print(s1.isalpha())"
   ]
  },
  {
   "cell_type": "code",
   "execution_count": 19,
   "metadata": {},
   "outputs": [
    {
     "name": "stdout",
     "output_type": "stream",
     "text": [
      "enter a String: \n",
      "True\n"
     ]
    }
   ],
   "source": [
    "# isspace:\n",
    "\n",
    "s1 = input(\"enter a String:\")\n",
    "print(s1.isspace())"
   ]
  },
  {
   "cell_type": "code",
   "execution_count": 3,
   "metadata": {},
   "outputs": [],
   "source": [
    "# Convert digits in to a list:\n",
    "\n",
    "def function1(n):\n",
    "    list1 = []\n",
    "    while n > 0:\n",
    "        r = n % 10\n",
    "        n = n // 10\n",
    "        list1.append(r)\n",
    "    list1.reverse()\n",
    "    print(list1)"
   ]
  },
  {
   "cell_type": "code",
   "execution_count": 4,
   "metadata": {},
   "outputs": [
    {
     "name": "stdout",
     "output_type": "stream",
     "text": [
      "enter a value:15486\n",
      "[1, 5, 4, 8, 6]\n"
     ]
    }
   ],
   "source": [
    "n = int(input(\"enter a value:\"))\n",
    "function1(n)"
   ]
  },
  {
   "cell_type": "code",
   "execution_count": 1,
   "metadata": {},
   "outputs": [],
   "source": [
    "# Factors of a num:\n",
    "\n",
    "def factors(n):\n",
    "    for i in range (1,(n//2)+1):\n",
    "        if n % i == 0:\n",
    "            print(i, end =\" \")"
   ]
  },
  {
   "cell_type": "code",
   "execution_count": 2,
   "metadata": {},
   "outputs": [
    {
     "name": "stdout",
     "output_type": "stream",
     "text": [
      "enter a value:12\n",
      "1 2 3 4 6 "
     ]
    }
   ],
   "source": [
    "n = int(input(\"enter a value:\"))\n",
    "factors(n)"
   ]
  },
  {
   "cell_type": "code",
   "execution_count": 7,
   "metadata": {},
   "outputs": [],
   "source": [
    "# Printing the sequence:\n",
    "\n",
    "def printv(m,n):\n",
    "    for i in range(m,n+1,2):\n",
    "        print(i,end=\" \")"
   ]
  },
  {
   "cell_type": "code",
   "execution_count": 8,
   "metadata": {},
   "outputs": [
    {
     "name": "stdout",
     "output_type": "stream",
     "text": [
      "enter a value:500\n",
      "enter a value:520\n",
      "500 502 504 506 508 510 512 514 516 518 520 "
     ]
    }
   ],
   "source": [
    "m = int(input(\"enter a value:\"))\n",
    "n = int(input(\"enter a value:\"))\n",
    "printv(m,n)"
   ]
  },
  {
   "cell_type": "code",
   "execution_count": 9,
   "metadata": {},
   "outputs": [
    {
     "name": "stdout",
     "output_type": "stream",
     "text": [
      "enter a value:12456\n",
      "6\n"
     ]
    }
   ],
   "source": [
    "# max in a given value:\n",
    "\n",
    "a = input(\"enter a value:\")\n",
    "print(int(max(str(a))))"
   ]
  },
  {
   "cell_type": "code",
   "execution_count": 5,
   "metadata": {},
   "outputs": [
    {
     "data": {
      "text/plain": [
       "['p', 'y', 't', 'h', 'o', 'n']"
      ]
     },
     "execution_count": 5,
     "metadata": {},
     "output_type": "execute_result"
    }
   ],
   "source": [
    "# Representing string in a form of list:\n",
    "\n",
    "s=\"python\"\n",
    "list(s)"
   ]
  },
  {
   "cell_type": "code",
   "execution_count": 11,
   "metadata": {},
   "outputs": [],
   "source": []
  }
 ],
 "metadata": {
  "kernelspec": {
   "display_name": "Python 3",
   "language": "python",
   "name": "python3"
  },
  "language_info": {
   "codemirror_mode": {
    "name": "ipython",
    "version": 3
   },
   "file_extension": ".py",
   "mimetype": "text/x-python",
   "name": "python",
   "nbconvert_exporter": "python",
   "pygments_lexer": "ipython3",
   "version": "3.7.4"
  }
 },
 "nbformat": 4,
 "nbformat_minor": 2
}
