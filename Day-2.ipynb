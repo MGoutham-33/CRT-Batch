{
 "cells": [
  {
   "cell_type": "markdown",
   "metadata": {},
   "source": [
    "![Python](python.png)"
   ]
  },
  {
   "cell_type": "markdown",
   "metadata": {},
   "source": [
    "![Python](https://encrypted-tbn0.gstatic.com/images?q=tbn:ANd9GcSDBQ4OuNwxygBY5W4aASfFtjq3XxsKfsuKwKAP_ktcbLK4E3Oyxg&s)"
   ]
  },
  {
   "cell_type": "markdown",
   "metadata": {},
   "source": [
    "\n",
    "[GitHub](https://github.com/)"
   ]
  },
  {
   "cell_type": "code",
   "execution_count": 4,
   "metadata": {},
   "outputs": [
    {
     "name": "stdout",
     "output_type": "stream",
     "text": [
      "0 1 2 3 4 5 6 7 8 9 10 11 12 13 14 15 16 17 18 19 20 "
     ]
    }
   ],
   "source": [
    "# FOR loop --> 1:\n",
    "\n",
    "for i in range(0,21):\n",
    "    print(i,end=\" \")"
   ]
  },
  {
   "cell_type": "code",
   "execution_count": 5,
   "metadata": {},
   "outputs": [
    {
     "name": "stdout",
     "output_type": "stream",
     "text": [
      "20 19 18 17 16 15 14 13 12 11 10 9 8 7 6 5 4 3 2 1 0 "
     ]
    }
   ],
   "source": [
    "# While loop:\n",
    "\n",
    "i = 20\n",
    "while i >= 0 :\n",
    "    print ( i , end=\" \" )\n",
    "    i-= 1"
   ]
  },
  {
   "cell_type": "code",
   "execution_count": 21,
   "metadata": {},
   "outputs": [
    {
     "name": "stdout",
     "output_type": "stream",
     "text": [
      "P Y T H O N "
     ]
    }
   ],
   "source": [
    "# For loop --> 2:\n",
    "\n",
    "for i in \"PYTHON\":\n",
    "    print(i,end=\" \")"
   ]
  },
  {
   "cell_type": "code",
   "execution_count": 26,
   "metadata": {},
   "outputs": [
    {
     "name": "stdout",
     "output_type": "stream",
     "text": [
      "enter a value that u need to print:10\n",
      "30\n"
     ]
    }
   ],
   "source": [
    "# SUM Of Even Numbers: \n",
    "\n",
    "n = int(input(\"enter a value that u need to print:\"))\n",
    "sum = 0\n",
    "for i in range(0,n+1,2 ):\n",
    "    sum+= i\n",
    "print(sum)\n",
    " "
   ]
  },
  {
   "cell_type": "code",
   "execution_count": 8,
   "metadata": {},
   "outputs": [
    {
     "name": "stdout",
     "output_type": "stream",
     "text": [
      "enter a value:123456\n",
      "6 5 4 3 2 1 "
     ]
    }
   ],
   "source": [
    "# Printing The Given Number Seperately:  \n",
    "\n",
    "n = int(input(\"enter a value:\"))\n",
    "while n > 0:\n",
    "    r = n%10\n",
    "    n = n // 10\n",
    "    print (r,end=\" \")"
   ]
  },
  {
   "cell_type": "code",
   "execution_count": null,
   "metadata": {},
   "outputs": [],
   "source": [
    " "
   ]
  }
 ],
 "metadata": {
  "kernelspec": {
   "display_name": "Python 3",
   "language": "python",
   "name": "python3"
  },
  "language_info": {
   "codemirror_mode": {
    "name": "ipython",
    "version": 3
   },
   "file_extension": ".py",
   "mimetype": "text/x-python",
   "name": "python",
   "nbconvert_exporter": "python",
   "pygments_lexer": "ipython3",
   "version": "3.7.4"
  }
 },
 "nbformat": 4,
 "nbformat_minor": 2
}
